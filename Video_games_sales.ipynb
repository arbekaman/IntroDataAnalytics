{
 "cells": [
  {
   "cell_type": "markdown",
   "metadata": {},
   "source": [
    "# Video Game Sales\n",
    "\n",
    "### Analyze sales data from more than 16,500 games.\n",
    "### Student: Aman Arbek \n",
    "### Group: BDA-1901\n",
    "#### Content\n",
    "+ Introduction\n",
    "+ Data description\n",
    "+ Formulation of research question\n",
    "+ Data preparation\n",
    "\n"
   ]
  },
  {
   "cell_type": "markdown",
   "metadata": {},
   "source": [
    "## 1. Introduction: Video Game Sales\n"
   ]
  },
  {
   "cell_type": "markdown",
   "metadata": {},
   "source": [
    "This is a list of the best-selling video games of all time. The best-selling video game to date is Minecraft, a sandbox video game originally released for Microsoft Windows, Mac OS X, and Linux in 2011. The game has been ported to a wide range of platforms, selling 200 million copies, including cheaper paid mobile game downloads. Grand Theft Auto V and EA's Tetris mobile game are the only other known video games to have sold over 100 million copies. The best-selling game on a single platform is Wii Sports, with nearly 83 million sales for the Wii console. Sales figures of games are often inflated when such game is packed in with existing hardware, such in the case of Super Mario Bros. and the NES, or Wii Play and the additional Wii controller it was bundled with.\n",
    "\n",
    "Of the top 50 best-selling video games on this list, half were developed or published by Nintendo. Several games were published by Nintendo and their affiliate, The Pokémon Company. Other publishers with multiple entries in the top 50 include Activision and Rockstar Games with five games each, and Electronic Arts and Sega with two games each. Aside from Nintendo's internal development teams, Game Freak is the developer with the most games in the top 50, with five from the Pokémon series. The oldest game in the top 50 is Pac-Man, which was released in June 1980.\n",
    "\n"
   ]
  },
  {
   "cell_type": "markdown",
   "metadata": {},
   "source": [
    "source( https://en.wikipedia.org/wiki/List_of_best-selling_video_games )"
   ]
  },
  {
   "cell_type": "markdown",
   "metadata": {},
   "source": [
    "## 2. Data description"
   ]
  },
  {
   "cell_type": "markdown",
   "metadata": {},
   "source": [
    "Based on the data provided by Kaggle. We have 16,500 lines about games. Games that were popular 4 years ago, different sales in different countries. We will compare the most popular games around the world based on different factors.\n",
    "\n",
    "Data were taken from the finished data set from https://www.kaggle.com/gregorut/videogamesales . The data about a video game is taken from https://www.vgchartz.com/ in 2016. Below is data that we will be scraped and used for our analysis:\n",
    "\n",
    "\n",
    "+ Fields include\n",
    "\n",
    "+ Rank - Ranking of overall sales\n",
    "\n",
    "+ Name - The games name\n",
    "\n",
    "+ Platform - Platform of the games release (i.e. PC,PS4, etc.)\n",
    "\n",
    "+ Year - Year of the game's release\n",
    "\n",
    "+ Genre - Genre of the game\n",
    "\n",
    "+ Publisher - Publisher of the game\n",
    "\n",
    "+ NA_Sales - Sales in North America (in millions)\n",
    "\n",
    "+ EU_Sales - Sales in Europe (in millions)\n",
    "\n",
    "+ JP_Sales - Sales in Japan (in millions)\n",
    "\n",
    "+ Global_Sales - Total worldwide sales.\n",
    "\n"
   ]
  },
  {
   "cell_type": "markdown",
   "metadata": {},
   "source": [
    "## 3.Formulation of research question"
   ]
  },
  {
   "cell_type": "markdown",
   "metadata": {},
   "source": [
    "Analyze total revenue from games for a global market and \n",
    "compare it with the total revenue from games on each continent and illustrate it as a diagram.\n",
    "\n",
    "Analyze on which platform the most games were produced.\n",
    "\n",
    "Analyze which genres have been popular around the world, and across all continents.\n",
    "\n",
    "Сomparing well-rated games with each other.\n",
    "\n",
    "Analysis of which year there were more games"
   ]
  },
  {
   "cell_type": "markdown",
   "metadata": {},
   "source": [
    "## 4.Data preparation"
   ]
  },
  {
   "cell_type": "markdown",
   "metadata": {},
   "source": [
    "I deleted the column other sales."
   ]
  },
  {
   "cell_type": "code",
   "execution_count": 5,
   "metadata": {},
   "outputs": [],
   "source": [
    "import numpy as np\n",
    "import pandas as pd\n"
   ]
  },
  {
   "cell_type": "code",
   "execution_count": 6,
   "metadata": {},
   "outputs": [
    {
     "name": "stdout",
     "output_type": "stream",
     "text": [
      "   Rank                      Name Platform    Year         Genre Publisher  \\\n",
      "0     1                Wii Sports      Wii  2006.0        Sports  Nintendo   \n",
      "1     2         Super Mario Bros.      NES  1985.0      Platform  Nintendo   \n",
      "2     3            Mario Kart Wii      Wii  2008.0        Racing  Nintendo   \n",
      "3     4         Wii Sports Resort      Wii  2009.0        Sports  Nintendo   \n",
      "4     5  Pokemon Red/Pokemon Blue       GB  1996.0  Role-Playing  Nintendo   \n",
      "\n",
      "   NA_Sales  EU_Sales  JP_Sales  Global_Sales  \n",
      "0     41.49     29.02      3.77         82.74  \n",
      "1     29.08      3.58      6.81         40.24  \n",
      "2     15.85     12.88      3.79         35.82  \n",
      "3     15.75     11.01      3.28         33.00  \n",
      "4     11.27      8.89     10.22         31.37  \n"
     ]
    }
   ],
   "source": [
    "train_df = pd.read_csv('/Users/arbek/Desktop/IDA/vgsales.csv')\n",
    "train_df.head()\n",
    "del train_df['Other_Sales']\n",
    "print(train_df.head())"
   ]
  },
  {
   "cell_type": "code",
   "execution_count": 12,
   "metadata": {},
   "outputs": [
    {
     "data": {
      "text/html": [
       "<div>\n",
       "<style scoped>\n",
       "    .dataframe tbody tr th:only-of-type {\n",
       "        vertical-align: middle;\n",
       "    }\n",
       "\n",
       "    .dataframe tbody tr th {\n",
       "        vertical-align: top;\n",
       "    }\n",
       "\n",
       "    .dataframe thead th {\n",
       "        text-align: right;\n",
       "    }\n",
       "</style>\n",
       "<table border=\"1\" class=\"dataframe\">\n",
       "  <thead>\n",
       "    <tr style=\"text-align: right;\">\n",
       "      <th></th>\n",
       "      <th>NA_Sales</th>\n",
       "      <th>EU_Sales</th>\n",
       "      <th>JP_Sales</th>\n",
       "      <th>Global_Sales</th>\n",
       "      <th>Name</th>\n",
       "    </tr>\n",
       "  </thead>\n",
       "  <tbody>\n",
       "    <tr>\n",
       "      <th>0</th>\n",
       "      <td>41.49</td>\n",
       "      <td>29.02</td>\n",
       "      <td>3.77</td>\n",
       "      <td>82.74</td>\n",
       "      <td>Wii Sports</td>\n",
       "    </tr>\n",
       "    <tr>\n",
       "      <th>1</th>\n",
       "      <td>29.08</td>\n",
       "      <td>3.58</td>\n",
       "      <td>6.81</td>\n",
       "      <td>40.24</td>\n",
       "      <td>Super Mario Bros.</td>\n",
       "    </tr>\n",
       "    <tr>\n",
       "      <th>2</th>\n",
       "      <td>15.85</td>\n",
       "      <td>12.88</td>\n",
       "      <td>3.79</td>\n",
       "      <td>35.82</td>\n",
       "      <td>Mario Kart Wii</td>\n",
       "    </tr>\n",
       "    <tr>\n",
       "      <th>3</th>\n",
       "      <td>15.75</td>\n",
       "      <td>11.01</td>\n",
       "      <td>3.28</td>\n",
       "      <td>33.00</td>\n",
       "      <td>Wii Sports Resort</td>\n",
       "    </tr>\n",
       "    <tr>\n",
       "      <th>4</th>\n",
       "      <td>11.27</td>\n",
       "      <td>8.89</td>\n",
       "      <td>10.22</td>\n",
       "      <td>31.37</td>\n",
       "      <td>Pokemon Red/Pokemon Blue</td>\n",
       "    </tr>\n",
       "  </tbody>\n",
       "</table>\n",
       "</div>"
      ],
      "text/plain": [
       "   NA_Sales  EU_Sales  JP_Sales  Global_Sales                      Name\n",
       "0     41.49     29.02      3.77         82.74                Wii Sports\n",
       "1     29.08      3.58      6.81         40.24         Super Mario Bros.\n",
       "2     15.85     12.88      3.79         35.82            Mario Kart Wii\n",
       "3     15.75     11.01      3.28         33.00         Wii Sports Resort\n",
       "4     11.27      8.89     10.22         31.37  Pokemon Red/Pokemon Blue"
      ]
     },
     "execution_count": 12,
     "metadata": {},
     "output_type": "execute_result"
    }
   ],
   "source": [
    "df1 = train_df[['NA_Sales', 'EU_Sales','JP_Sales','Global_Sales','Name']]\n",
    "df1.head(5)"
   ]
  },
  {
   "cell_type": "code",
   "execution_count": 15,
   "metadata": {},
   "outputs": [
    {
     "data": {
      "text/html": [
       "<div>\n",
       "<style scoped>\n",
       "    .dataframe tbody tr th:only-of-type {\n",
       "        vertical-align: middle;\n",
       "    }\n",
       "\n",
       "    .dataframe tbody tr th {\n",
       "        vertical-align: top;\n",
       "    }\n",
       "\n",
       "    .dataframe thead th {\n",
       "        text-align: right;\n",
       "    }\n",
       "</style>\n",
       "<table border=\"1\" class=\"dataframe\">\n",
       "  <thead>\n",
       "    <tr style=\"text-align: right;\">\n",
       "      <th></th>\n",
       "      <th>Name</th>\n",
       "      <th>Platform</th>\n",
       "      <th>Global_Sales</th>\n",
       "    </tr>\n",
       "  </thead>\n",
       "  <tbody>\n",
       "    <tr>\n",
       "      <th>0</th>\n",
       "      <td>Wii Sports</td>\n",
       "      <td>Wii</td>\n",
       "      <td>82.74</td>\n",
       "    </tr>\n",
       "    <tr>\n",
       "      <th>1</th>\n",
       "      <td>Super Mario Bros.</td>\n",
       "      <td>NES</td>\n",
       "      <td>40.24</td>\n",
       "    </tr>\n",
       "    <tr>\n",
       "      <th>2</th>\n",
       "      <td>Mario Kart Wii</td>\n",
       "      <td>Wii</td>\n",
       "      <td>35.82</td>\n",
       "    </tr>\n",
       "    <tr>\n",
       "      <th>3</th>\n",
       "      <td>Wii Sports Resort</td>\n",
       "      <td>Wii</td>\n",
       "      <td>33.00</td>\n",
       "    </tr>\n",
       "    <tr>\n",
       "      <th>4</th>\n",
       "      <td>Pokemon Red/Pokemon Blue</td>\n",
       "      <td>GB</td>\n",
       "      <td>31.37</td>\n",
       "    </tr>\n",
       "  </tbody>\n",
       "</table>\n",
       "</div>"
      ],
      "text/plain": [
       "                       Name Platform  Global_Sales\n",
       "0                Wii Sports      Wii         82.74\n",
       "1         Super Mario Bros.      NES         40.24\n",
       "2            Mario Kart Wii      Wii         35.82\n",
       "3         Wii Sports Resort      Wii         33.00\n",
       "4  Pokemon Red/Pokemon Blue       GB         31.37"
      ]
     },
     "execution_count": 15,
     "metadata": {},
     "output_type": "execute_result"
    }
   ],
   "source": [
    "df2 = train_df[['Name', 'Platform','Global_Sales']]\n",
    "df2.head(5)"
   ]
  },
  {
   "cell_type": "code",
   "execution_count": null,
   "metadata": {},
   "outputs": [],
   "source": []
  }
 ],
 "metadata": {
  "kernelspec": {
   "display_name": "Python 3",
   "language": "python",
   "name": "python3"
  },
  "language_info": {
   "codemirror_mode": {
    "name": "ipython",
    "version": 3
   },
   "file_extension": ".py",
   "mimetype": "text/x-python",
   "name": "python",
   "nbconvert_exporter": "python",
   "pygments_lexer": "ipython3",
   "version": "3.8.3"
  }
 },
 "nbformat": 4,
 "nbformat_minor": 4
}
